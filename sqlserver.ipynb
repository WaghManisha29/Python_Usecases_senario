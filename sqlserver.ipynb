{
 "cells": [
  {
   "cell_type": "code",
   "execution_count": 1,
   "id": "a05ca0be",
   "metadata": {},
   "outputs": [
    {
     "name": "stdout",
     "output_type": "stream",
     "text": [
      "Collecting pyodbc\n",
      "  Downloading pyodbc-5.2.0-cp311-cp311-win_amd64.whl.metadata (2.8 kB)\n",
      "Downloading pyodbc-5.2.0-cp311-cp311-win_amd64.whl (68 kB)\n",
      "   ---------------------------------------- 0.0/68.9 kB ? eta -:--:--\n",
      "   ----- ---------------------------------- 10.2/68.9 kB ? eta -:--:--\n",
      "   ----------------------------------- ---- 61.4/68.9 kB 648.1 kB/s eta 0:00:01\n",
      "   ----------------------------------- ---- 61.4/68.9 kB 648.1 kB/s eta 0:00:01\n",
      "   ---------------------------------------- 68.9/68.9 kB 469.0 kB/s eta 0:00:00\n",
      "Installing collected packages: pyodbc\n",
      "Successfully installed pyodbc-5.2.0\n",
      "Note: you may need to restart the kernel to use updated packages.\n"
     ]
    },
    {
     "name": "stderr",
     "output_type": "stream",
     "text": [
      "\n",
      "[notice] A new release of pip is available: 24.0 -> 25.1.1\n",
      "[notice] To update, run: python.exe -m pip install --upgrade pip\n"
     ]
    }
   ],
   "source": [
    "pip install pyodbc\n"
   ]
  },
  {
   "cell_type": "code",
   "execution_count": 32,
   "id": "55673fb5",
   "metadata": {},
   "outputs": [],
   "source": [
    "import pyodbc\n",
    "import pandas as pd\n"
   ]
  },
  {
   "cell_type": "code",
   "execution_count": 34,
   "id": "7f8f10f9",
   "metadata": {},
   "outputs": [
    {
     "name": "stdout",
     "output_type": "stream",
     "text": [
      "Collecting sqlalchemy\n",
      "  Downloading sqlalchemy-2.0.41-cp311-cp311-win_amd64.whl.metadata (9.8 kB)\n",
      "Collecting greenlet>=1 (from sqlalchemy)\n",
      "  Downloading greenlet-3.2.3-cp311-cp311-win_amd64.whl.metadata (4.2 kB)\n",
      "Requirement already satisfied: typing-extensions>=4.6.0 in c:\\users\\manisha\\appdata\\roaming\\python\\python311\\site-packages (from sqlalchemy) (4.14.0)\n",
      "Downloading sqlalchemy-2.0.41-cp311-cp311-win_amd64.whl (2.1 MB)\n",
      "   ---------------------------------------- 0.0/2.1 MB ? eta -:--:--\n",
      "   - -------------------------------------- 0.1/2.1 MB 3.2 MB/s eta 0:00:01\n",
      "   -------- ------------------------------- 0.5/2.1 MB 7.0 MB/s eta 0:00:01\n",
      "   ------------- -------------------------- 0.7/2.1 MB 7.6 MB/s eta 0:00:01\n",
      "   ------------------------ --------------- 1.3/2.1 MB 8.1 MB/s eta 0:00:01\n",
      "   ----------------------------------- ---- 1.9/2.1 MB 9.1 MB/s eta 0:00:01\n",
      "   ---------------------------------------  2.1/2.1 MB 9.6 MB/s eta 0:00:01\n",
      "   ---------------------------------------- 2.1/2.1 MB 7.9 MB/s eta 0:00:00\n",
      "Downloading greenlet-3.2.3-cp311-cp311-win_amd64.whl (297 kB)\n",
      "   ---------------------------------------- 0.0/297.0 kB ? eta -:--:--\n",
      "   ---------------------------------------- 297.0/297.0 kB 9.0 MB/s eta 0:00:00\n",
      "Installing collected packages: greenlet, sqlalchemy\n",
      "Successfully installed greenlet-3.2.3 sqlalchemy-2.0.41\n"
     ]
    },
    {
     "name": "stderr",
     "output_type": "stream",
     "text": [
      "\n",
      "[notice] A new release of pip is available: 24.0 -> 25.1.1\n",
      "[notice] To update, run: python.exe -m pip install --upgrade pip\n"
     ]
    }
   ],
   "source": [
    "!pip install sqlalchemy"
   ]
  },
  {
   "cell_type": "code",
   "execution_count": 2,
   "id": "6980a017",
   "metadata": {},
   "outputs": [
    {
     "data": {
      "text/plain": [
       "['SQL Server',\n",
       " 'SQL Server Native Client RDA 11.0',\n",
       " 'ODBC Driver 17 for SQL Server',\n",
       " 'Microsoft Access Driver (*.mdb, *.accdb)',\n",
       " 'Microsoft Excel Driver (*.xls, *.xlsx, *.xlsm, *.xlsb)',\n",
       " 'Microsoft Access Text Driver (*.txt, *.csv)',\n",
       " 'Microsoft Access dBASE Driver (*.dbf, *.ndx, *.mdx)']"
      ]
     },
     "execution_count": 2,
     "metadata": {},
     "output_type": "execute_result"
    }
   ],
   "source": [
    "pyodbc.drivers()"
   ]
  },
  {
   "cell_type": "code",
   "execution_count": null,
   "id": "cb32c508",
   "metadata": {},
   "outputs": [],
   "source": [
    "\n",
    "DRIVER_NAME='ODBC Driver 17 for SQL Server',\n",
    "USERNAME='sa',\n",
    "SERVER_NAME = 'DESKTOP-FIQ4FDL\\SQLEXPRESS03',\n",
    "PASSWORD='manisha123',\n"
   ]
  },
  {
   "cell_type": "code",
   "execution_count": 21,
   "id": "1be15923",
   "metadata": {},
   "outputs": [],
   "source": [
    "connection_string = f\"\"\"\n",
    "DRIVER={{{DRIVER_NAME}}};\n",
    "SERVER={SERVER_NAME};\n",
    "UID={USERNAME};\n",
    "PWD={PASSWORD};\n",
    "DATABASE=master;\n",
    "\n",
    "\"\"\"\n"
   ]
  },
  {
   "cell_type": "code",
   "execution_count": 4,
   "id": "2af2ff13",
   "metadata": {},
   "outputs": [],
   "source": [
    "DRIVER_NAME = 'ODBC Driver 17 for SQL Server'\n",
    "SERVER_NAME = 'DESKTOP-FIQ4FDL\\\\SQLEXPRESS03'  \n",
    "USERNAME = 'sa'\n",
    "PASSWORD = 'manisha123'"
   ]
  },
  {
   "cell_type": "code",
   "execution_count": 5,
   "id": "23de824b",
   "metadata": {},
   "outputs": [
    {
     "name": "stdout",
     "output_type": "stream",
     "text": [
      " Connection failed: name 'pyodbc' is not defined\n"
     ]
    }
   ],
   "source": [
    "\n",
    "# Build connection string (connecting to master DB)\n",
    "connection_string = (\n",
    "    f\"DRIVER={{{DRIVER_NAME}}};\"\n",
    "    f\"SERVER={SERVER_NAME};\"\n",
    "    f\"UID={USERNAME};\"\n",
    "    f\"PWD={PASSWORD};\"\n",
    ")\n",
    "\n",
    "# Try connecting with autocommit enabled\n",
    "try:\n",
    "    conn = pyodbc.connect(connection_string, autocommit=True)\n",
    "    cursor = conn.cursor()\n",
    "    print(\"✅ Connected to SQL Server successfully.\")\n",
    "except Exception as e:\n",
    "    print(\" Connection failed:\", e)\n"
   ]
  },
  {
   "cell_type": "code",
   "execution_count": null,
   "id": "b5d69be3",
   "metadata": {},
   "outputs": [
    {
     "name": "stdout",
     "output_type": "stream",
     "text": [
      "❌ Failed to create database: ('42000', \"[42000] [Microsoft][ODBC Driver 17 for SQL Server][SQL Server]Database 'sqlpythondb' already exists. Choose a different database name. (1801) (SQLExecDirectW)\")\n"
     ]
    }
   ],
   "source": [
    "try:\n",
    "    cursor.execute(\"CREATE DATABASE sqlpythondb;\")\n",
    "    print(\"✅ Database 'sqlpythondb' created successfully with autocommit.\")\n",
    "except Exception as e:\n",
    "    print(\" Failed to create database:\", e)"
   ]
  },
  {
   "cell_type": "code",
   "execution_count": 2,
   "id": "130e114a",
   "metadata": {},
   "outputs": [
    {
     "name": "stdout",
     "output_type": "stream",
     "text": [
      " Error fetching databases: name 'cursor' is not defined\n"
     ]
    }
   ],
   "source": [
    "try:\n",
    "    cursor.execute(\"SELECT name FROM sys.databases;\")\n",
    "    databases = cursor.fetchall()\n",
    "    db_list = [row[0] for row in databases]\n",
    "    print(\"Available Databases:\")\n",
    "    for db in db_list:\n",
    "        print(f\"  - {db}\")\n",
    "\n",
    "    # Check if your DB is in the list\n",
    "    if 'sqlpythondb' in db_list:\n",
    "        print(\"'sqlpythondb' exists.\")\n",
    "    else:\n",
    "        print(\"'sqlpythondb' NOT found.\")\n",
    "except Exception as e:\n",
    "    print(\" Error fetching databases:\", e)\n"
   ]
  },
  {
   "cell_type": "code",
   "execution_count": 86,
   "id": "d8f107cb",
   "metadata": {},
   "outputs": [
    {
     "data": {
      "text/html": [
       "<div>\n",
       "<style scoped>\n",
       "    .dataframe tbody tr th:only-of-type {\n",
       "        vertical-align: middle;\n",
       "    }\n",
       "\n",
       "    .dataframe tbody tr th {\n",
       "        vertical-align: top;\n",
       "    }\n",
       "\n",
       "    .dataframe thead th {\n",
       "        text-align: right;\n",
       "    }\n",
       "</style>\n",
       "<table border=\"1\" class=\"dataframe\">\n",
       "  <thead>\n",
       "    <tr style=\"text-align: right;\">\n",
       "      <th></th>\n",
       "      <th>customer_id</th>\n",
       "      <th>name</th>\n",
       "      <th>email</th>\n",
       "      <th>phone</th>\n",
       "      <th>address</th>\n",
       "      <th>registration_date</th>\n",
       "      <th>loyalty_status</th>\n",
       "    </tr>\n",
       "  </thead>\n",
       "  <tbody>\n",
       "    <tr>\n",
       "      <th>0</th>\n",
       "      <td>1</td>\n",
       "      <td>Michelle Kidd</td>\n",
       "      <td>vayala@example.net</td>\n",
       "      <td>(619) 723-4258</td>\n",
       "      <td>USNS Santiago, FPO AE 80872</td>\n",
       "      <td>25-01-2025</td>\n",
       "      <td>Gold</td>\n",
       "    </tr>\n",
       "    <tr>\n",
       "      <th>1</th>\n",
       "      <td>2</td>\n",
       "      <td>Brad Newton</td>\n",
       "      <td>taylorcatherine@example.net</td>\n",
       "      <td>(537) 674-1158</td>\n",
       "      <td>38783 Oliver Street, West Kristenborough, MT 9...</td>\n",
       "      <td>13-07-2023</td>\n",
       "      <td>Silver</td>\n",
       "    </tr>\n",
       "    <tr>\n",
       "      <th>2</th>\n",
       "      <td>3</td>\n",
       "      <td>Larry Torres</td>\n",
       "      <td>dsanchez@example.net</td>\n",
       "      <td>(810) 256-4505</td>\n",
       "      <td>6845 Steele Turnpike, West Erikabury, UT 37487</td>\n",
       "      <td>18-08-2023</td>\n",
       "      <td>Bronze</td>\n",
       "    </tr>\n",
       "    <tr>\n",
       "      <th>3</th>\n",
       "      <td>4</td>\n",
       "      <td>Kimberly Price</td>\n",
       "      <td>jessicaknight@example.com</td>\n",
       "      <td>(423) 222-9779</td>\n",
       "      <td>1631 Alexis Meadows, Lake Amanda, CA 75179</td>\n",
       "      <td>08-12-2024</td>\n",
       "      <td>Gold</td>\n",
       "    </tr>\n",
       "    <tr>\n",
       "      <th>4</th>\n",
       "      <td>5</td>\n",
       "      <td>Matthew Phillips</td>\n",
       "      <td>qwilliams@example.com</td>\n",
       "      <td>(220) 763-3522</td>\n",
       "      <td>2274 Williams Heights Suite 895, Andersonhaven...</td>\n",
       "      <td>03-02-2024</td>\n",
       "      <td>Gold</td>\n",
       "    </tr>\n",
       "    <tr>\n",
       "      <th>...</th>\n",
       "      <td>...</td>\n",
       "      <td>...</td>\n",
       "      <td>...</td>\n",
       "      <td>...</td>\n",
       "      <td>...</td>\n",
       "      <td>...</td>\n",
       "      <td>...</td>\n",
       "    </tr>\n",
       "    <tr>\n",
       "      <th>995</th>\n",
       "      <td>996</td>\n",
       "      <td>Jerry Mcdaniel</td>\n",
       "      <td>walkerlisa@example.net</td>\n",
       "      <td>(638) 989-9441</td>\n",
       "      <td>34746 Smith Gateway, New Sarah, AS 12715</td>\n",
       "      <td>10-02-2025</td>\n",
       "      <td>Silver</td>\n",
       "    </tr>\n",
       "    <tr>\n",
       "      <th>996</th>\n",
       "      <td>997</td>\n",
       "      <td>Jodi Simpson</td>\n",
       "      <td>eric24@example.org</td>\n",
       "      <td>(483) 625-2940</td>\n",
       "      <td>2876 Tucker Road Suite 947, North Tommyborough...</td>\n",
       "      <td>18-04-2024</td>\n",
       "      <td>Bronze</td>\n",
       "    </tr>\n",
       "    <tr>\n",
       "      <th>997</th>\n",
       "      <td>998</td>\n",
       "      <td>Crystal Brown</td>\n",
       "      <td>pshaffer@example.net</td>\n",
       "      <td>(390) 747-3088</td>\n",
       "      <td>095 Janice Forest Suite 570, Boltonmouth, DE 7...</td>\n",
       "      <td>30-08-2024</td>\n",
       "      <td>Bronze</td>\n",
       "    </tr>\n",
       "    <tr>\n",
       "      <th>998</th>\n",
       "      <td>999</td>\n",
       "      <td>Gregory Duarte</td>\n",
       "      <td>caitlindunlap@example.org</td>\n",
       "      <td>(257) 409-8196</td>\n",
       "      <td>Unit 6377 Box 7662, DPO AP 03300</td>\n",
       "      <td>16-05-2024</td>\n",
       "      <td>Gold</td>\n",
       "    </tr>\n",
       "    <tr>\n",
       "      <th>999</th>\n",
       "      <td>1000</td>\n",
       "      <td>Jason Walls</td>\n",
       "      <td>michael42@example.com</td>\n",
       "      <td>(692) 333-6880</td>\n",
       "      <td>95002 Bruce Rue, Camachoport, MH 58723</td>\n",
       "      <td>10-12-2024</td>\n",
       "      <td>Bronze</td>\n",
       "    </tr>\n",
       "  </tbody>\n",
       "</table>\n",
       "<p>1000 rows × 7 columns</p>\n",
       "</div>"
      ],
      "text/plain": [
       "     customer_id              name                        email  \\\n",
       "0              1     Michelle Kidd           vayala@example.net   \n",
       "1              2       Brad Newton  taylorcatherine@example.net   \n",
       "2              3      Larry Torres         dsanchez@example.net   \n",
       "3              4    Kimberly Price    jessicaknight@example.com   \n",
       "4              5  Matthew Phillips        qwilliams@example.com   \n",
       "..           ...               ...                          ...   \n",
       "995          996    Jerry Mcdaniel       walkerlisa@example.net   \n",
       "996          997      Jodi Simpson           eric24@example.org   \n",
       "997          998     Crystal Brown         pshaffer@example.net   \n",
       "998          999    Gregory Duarte    caitlindunlap@example.org   \n",
       "999         1000       Jason Walls        michael42@example.com   \n",
       "\n",
       "              phone                                            address  \\\n",
       "0    (619) 723-4258                        USNS Santiago, FPO AE 80872   \n",
       "1    (537) 674-1158  38783 Oliver Street, West Kristenborough, MT 9...   \n",
       "2    (810) 256-4505     6845 Steele Turnpike, West Erikabury, UT 37487   \n",
       "3    (423) 222-9779         1631 Alexis Meadows, Lake Amanda, CA 75179   \n",
       "4    (220) 763-3522  2274 Williams Heights Suite 895, Andersonhaven...   \n",
       "..              ...                                                ...   \n",
       "995  (638) 989-9441           34746 Smith Gateway, New Sarah, AS 12715   \n",
       "996  (483) 625-2940  2876 Tucker Road Suite 947, North Tommyborough...   \n",
       "997  (390) 747-3088  095 Janice Forest Suite 570, Boltonmouth, DE 7...   \n",
       "998  (257) 409-8196                   Unit 6377 Box 7662, DPO AP 03300   \n",
       "999  (692) 333-6880             95002 Bruce Rue, Camachoport, MH 58723   \n",
       "\n",
       "    registration_date loyalty_status  \n",
       "0          25-01-2025           Gold  \n",
       "1          13-07-2023         Silver  \n",
       "2          18-08-2023         Bronze  \n",
       "3          08-12-2024           Gold  \n",
       "4          03-02-2024           Gold  \n",
       "..                ...            ...  \n",
       "995        10-02-2025         Silver  \n",
       "996        18-04-2024         Bronze  \n",
       "997        30-08-2024         Bronze  \n",
       "998        16-05-2024           Gold  \n",
       "999        10-12-2024         Bronze  \n",
       "\n",
       "[1000 rows x 7 columns]"
      ]
     },
     "execution_count": 86,
     "metadata": {},
     "output_type": "execute_result"
    }
   ],
   "source": [
    "cust=r\"c:\\Users\\Manisha\\Downloads\\replaced_customer.csv\"\n",
    "\n",
    "customer=pd.read_csv(cust)\n",
    "\n",
    "customer"
   ]
  },
  {
   "cell_type": "code",
   "execution_count": 31,
   "id": "eb97e2d5",
   "metadata": {},
   "outputs": [
    {
     "data": {
      "text/html": [
       "<div>\n",
       "<style scoped>\n",
       "    .dataframe tbody tr th:only-of-type {\n",
       "        vertical-align: middle;\n",
       "    }\n",
       "\n",
       "    .dataframe tbody tr th {\n",
       "        vertical-align: top;\n",
       "    }\n",
       "\n",
       "    .dataframe thead th {\n",
       "        text-align: right;\n",
       "    }\n",
       "</style>\n",
       "<table border=\"1\" class=\"dataframe\">\n",
       "  <thead>\n",
       "    <tr style=\"text-align: right;\">\n",
       "      <th></th>\n",
       "      <th>order_id</th>\n",
       "      <th>customer_id</th>\n",
       "      <th>order_date</th>\n",
       "      <th>order_amount</th>\n",
       "      <th>order_status</th>\n",
       "      <th>product_category</th>\n",
       "    </tr>\n",
       "  </thead>\n",
       "  <tbody>\n",
       "    <tr>\n",
       "      <th>0</th>\n",
       "      <td>892a07a4-d252-4775-85e0-73077143e1c6</td>\n",
       "      <td>966</td>\n",
       "      <td>2024-11-27</td>\n",
       "      <td>317.64</td>\n",
       "      <td>Cancelled</td>\n",
       "      <td>Home &amp; Garden</td>\n",
       "    </tr>\n",
       "    <tr>\n",
       "      <th>1</th>\n",
       "      <td>ae160758-e187-47b2-9350-032f88f55491</td>\n",
       "      <td>345</td>\n",
       "      <td>2023-03-27</td>\n",
       "      <td>645.87</td>\n",
       "      <td>Completed</td>\n",
       "      <td>Home &amp; Garden</td>\n",
       "    </tr>\n",
       "    <tr>\n",
       "      <th>2</th>\n",
       "      <td>7c50456e-6123-45cc-aa19-128bef3754d6</td>\n",
       "      <td>503</td>\n",
       "      <td>2024-03-31</td>\n",
       "      <td>880.86</td>\n",
       "      <td>Pending</td>\n",
       "      <td>Clothing</td>\n",
       "    </tr>\n",
       "    <tr>\n",
       "      <th>3</th>\n",
       "      <td>c788b56b-3716-4cd9-a827-d4dc401ba00c</td>\n",
       "      <td>385</td>\n",
       "      <td>2023-08-09</td>\n",
       "      <td>876.83</td>\n",
       "      <td>Cancelled</td>\n",
       "      <td>Home &amp; Garden</td>\n",
       "    </tr>\n",
       "    <tr>\n",
       "      <th>4</th>\n",
       "      <td>925ab5b1-adb1-4302-a70b-1c2db724e02b</td>\n",
       "      <td>817</td>\n",
       "      <td>2023-04-19</td>\n",
       "      <td>264.53</td>\n",
       "      <td>Pending</td>\n",
       "      <td>Home &amp; Garden</td>\n",
       "    </tr>\n",
       "    <tr>\n",
       "      <th>...</th>\n",
       "      <td>...</td>\n",
       "      <td>...</td>\n",
       "      <td>...</td>\n",
       "      <td>...</td>\n",
       "      <td>...</td>\n",
       "      <td>...</td>\n",
       "    </tr>\n",
       "    <tr>\n",
       "      <th>1995</th>\n",
       "      <td>cb6f0f6b-3d4b-402c-ba9e-a8e666422d97</td>\n",
       "      <td>799</td>\n",
       "      <td>2023-11-20</td>\n",
       "      <td>634.62</td>\n",
       "      <td>Cancelled</td>\n",
       "      <td>Clothing</td>\n",
       "    </tr>\n",
       "    <tr>\n",
       "      <th>1996</th>\n",
       "      <td>900fdea4-fd87-486d-bc20-26d045767ed8</td>\n",
       "      <td>692</td>\n",
       "      <td>2023-07-20</td>\n",
       "      <td>945.97</td>\n",
       "      <td>Cancelled</td>\n",
       "      <td>Electronics</td>\n",
       "    </tr>\n",
       "    <tr>\n",
       "      <th>1997</th>\n",
       "      <td>4550ccfe-18c1-45d5-8c31-0edf1e3d9fa3</td>\n",
       "      <td>695</td>\n",
       "      <td>2024-01-06</td>\n",
       "      <td>229.99</td>\n",
       "      <td>Cancelled</td>\n",
       "      <td>Home &amp; Garden</td>\n",
       "    </tr>\n",
       "    <tr>\n",
       "      <th>1998</th>\n",
       "      <td>dd19b028-dfa2-4eda-a66f-44f5401ef27e</td>\n",
       "      <td>502</td>\n",
       "      <td>2023-02-05</td>\n",
       "      <td>596.65</td>\n",
       "      <td>Completed</td>\n",
       "      <td>Electronics</td>\n",
       "    </tr>\n",
       "    <tr>\n",
       "      <th>1999</th>\n",
       "      <td>5e32ff66-d3dd-48ad-8e47-cd71bb2e97ea</td>\n",
       "      <td>348</td>\n",
       "      <td>2024-11-02</td>\n",
       "      <td>238.69</td>\n",
       "      <td>Completed</td>\n",
       "      <td>Books</td>\n",
       "    </tr>\n",
       "  </tbody>\n",
       "</table>\n",
       "<p>2000 rows × 6 columns</p>\n",
       "</div>"
      ],
      "text/plain": [
       "                                  order_id  customer_id  order_date  \\\n",
       "0     892a07a4-d252-4775-85e0-73077143e1c6          966  2024-11-27   \n",
       "1     ae160758-e187-47b2-9350-032f88f55491          345  2023-03-27   \n",
       "2     7c50456e-6123-45cc-aa19-128bef3754d6          503  2024-03-31   \n",
       "3     c788b56b-3716-4cd9-a827-d4dc401ba00c          385  2023-08-09   \n",
       "4     925ab5b1-adb1-4302-a70b-1c2db724e02b          817  2023-04-19   \n",
       "...                                    ...          ...         ...   \n",
       "1995  cb6f0f6b-3d4b-402c-ba9e-a8e666422d97          799  2023-11-20   \n",
       "1996  900fdea4-fd87-486d-bc20-26d045767ed8          692  2023-07-20   \n",
       "1997  4550ccfe-18c1-45d5-8c31-0edf1e3d9fa3          695  2024-01-06   \n",
       "1998  dd19b028-dfa2-4eda-a66f-44f5401ef27e          502  2023-02-05   \n",
       "1999  5e32ff66-d3dd-48ad-8e47-cd71bb2e97ea          348  2024-11-02   \n",
       "\n",
       "      order_amount order_status product_category  \n",
       "0           317.64    Cancelled    Home & Garden  \n",
       "1           645.87    Completed    Home & Garden  \n",
       "2           880.86      Pending         Clothing  \n",
       "3           876.83    Cancelled    Home & Garden  \n",
       "4           264.53      Pending    Home & Garden  \n",
       "...            ...          ...              ...  \n",
       "1995        634.62    Cancelled         Clothing  \n",
       "1996        945.97    Cancelled      Electronics  \n",
       "1997        229.99    Cancelled    Home & Garden  \n",
       "1998        596.65    Completed      Electronics  \n",
       "1999        238.69    Completed            Books  \n",
       "\n",
       "[2000 rows x 6 columns]"
      ]
     },
     "execution_count": 31,
     "metadata": {},
     "output_type": "execute_result"
    }
   ],
   "source": [
    "ord=r\"C:\\Users\\Manisha\\Downloads\\order_data 1.csv\"\n",
    "\n",
    "orders=pd.read_csv(ord)\n",
    "\n",
    "orders"
   ]
  },
  {
   "cell_type": "code",
   "execution_count": 38,
   "id": "ee521b62",
   "metadata": {},
   "outputs": [
    {
     "data": {
      "text/plain": [
       "Index(['name', 'email', 'phone', 'address', 'registration_date',\n",
       "       'loyalty_status'],\n",
       "      dtype='object')"
      ]
     },
     "execution_count": 38,
     "metadata": {},
     "output_type": "execute_result"
    }
   ],
   "source": [
    "customer.columns"
   ]
  },
  {
   "cell_type": "code",
   "execution_count": 50,
   "id": "f3757d39",
   "metadata": {},
   "outputs": [
    {
     "data": {
      "text/plain": [
       "Index(['order_id', 'customer_id', 'order_date', 'order_amount', 'order_status',\n",
       "       'product_category'],\n",
       "      dtype='object')"
      ]
     },
     "execution_count": 50,
     "metadata": {},
     "output_type": "execute_result"
    }
   ],
   "source": [
    "orders.columns"
   ]
  },
  {
   "cell_type": "code",
   "execution_count": 19,
   "id": "ffbd16f9",
   "metadata": {},
   "outputs": [
    {
     "name": "stdout",
     "output_type": "stream",
     "text": [
      " Connected to SQL Server — Database: sqlpythondb\n"
     ]
    }
   ],
   "source": [
    "import pyodbc\n",
    "\n",
    "# Connection details\n",
    "DRIVER_NAME = \"ODBC Driver 17 for SQL Server\"\n",
    "SERVER_NAME = \"DESKTOP-FIQ4FDL\\\\SQLEXPRESS03\"  \n",
    "USERNAME = \"sa\"\n",
    "PASSWORD = \"manisha123\"  \n",
    "DATABASE_NAME = \"sqlpythondb\"  \n",
    "\n",
    "# Build connection string\n",
    "connection_string = (\n",
    "    f\"DRIVER={{{DRIVER_NAME}}};\"\n",
    "    f\"SERVER={SERVER_NAME};\"\n",
    "    f\"DATABASE={DATABASE_NAME};\" \n",
    "    f\"UID={USERNAME};\"\n",
    "    f\"PWD={PASSWORD};\"\n",
    ")\n",
    "\n",
    "# Connect with autocommit\n",
    "try:\n",
    "    conn = pyodbc.connect(connection_string, autocommit=True)\n",
    "    cursor = conn.cursor()\n",
    "    print(f\" Connected to SQL Server — Database: {DATABASE_NAME}\")\n",
    "except Exception as e:\n",
    "    print(\" Connection failed:\", e)\n"
   ]
  },
  {
   "cell_type": "code",
   "execution_count": 24,
   "id": "e5a19ab4",
   "metadata": {},
   "outputs": [
    {
     "data": {
      "text/plain": [
       "<pyodbc.Cursor at 0x2d437f2da30>"
      ]
     },
     "execution_count": 24,
     "metadata": {},
     "output_type": "execute_result"
    }
   ],
   "source": [
    "drop1= \"\"\"\n",
    "drop table orders; \"\"\"\n",
    "\n",
    "cursor.execute(drop1)"
   ]
  },
  {
   "cell_type": "code",
   "execution_count": 29,
   "id": "9181c13a",
   "metadata": {},
   "outputs": [
    {
     "data": {
      "text/plain": [
       "<pyodbc.Cursor at 0x2d437f2da30>"
      ]
     },
     "execution_count": 29,
     "metadata": {},
     "output_type": "execute_result"
    }
   ],
   "source": [
    "drop= \"\"\"\n",
    "drop table customers; \"\"\"\n",
    "\n",
    "cursor.execute(drop)"
   ]
  },
  {
   "cell_type": "code",
   "execution_count": 27,
   "id": "f60ac614",
   "metadata": {},
   "outputs": [
    {
     "data": {
      "text/plain": [
       "<pyodbc.Cursor at 0x2d437f2da30>"
      ]
     },
     "execution_count": 27,
     "metadata": {},
     "output_type": "execute_result"
    }
   ],
   "source": [
    "drop= \"\"\"\n",
    "drop table transactions; \"\"\"\n",
    "\n",
    "cursor.execute(drop)"
   ]
  },
  {
   "cell_type": "code",
   "execution_count": 34,
   "id": "0abd0eb7",
   "metadata": {},
   "outputs": [
    {
     "name": "stdout",
     "output_type": "stream",
     "text": [
      "Current Database: sqlpythondb\n"
     ]
    }
   ],
   "source": [
    "cursor.execute(\"SELECT DB_NAME() AS CurrentDatabase\")\n",
    "database_name = cursor.fetchone()[0]\n",
    "print(\"Current Database:\", database_name)\n"
   ]
  },
  {
   "cell_type": "code",
   "execution_count": 30,
   "id": "691e545a",
   "metadata": {},
   "outputs": [
    {
     "name": "stdout",
     "output_type": "stream",
     "text": [
      "'CUSTOMER' AND 'ORDERS  AND transations' table created.\n"
     ]
    }
   ],
   "source": [
    "create_table_sql = \"\"\"\n",
    "CREATE TABLE Customers(\n",
    "    customer_id int primary key,\n",
    "    name varchar(255),\n",
    "    email varchar(255),\n",
    "    phone nvarchar(50),\n",
    "    address nvarchar(255),\n",
    "    registration_date DATE,\n",
    "    loyalty_status VARCHAR(50)\n",
    ");\n",
    "CREATE TABLE orders (\n",
    "    order_id VARCHAR(255) primary key,\n",
    "    customer_id INT,\n",
    "    order_date DATE,\n",
    "    order_amount float,\n",
    "    order_status VARCHAR(50),\n",
    "    product_category VARCHAR(100)\n",
    ");\n",
    "create table transactions(\n",
    "                        transaction_id int primary key,\n",
    "                        customer_id int,\n",
    "                        amount float,\n",
    "                        transaction_date date,\n",
    "                        product_category varchar(max),\n",
    "                        payment_method varchar(max),\n",
    "                        store_location varchar(max),\n",
    "                        FOREIGN KEY (customer_id) REFERENCES customers(customer_id)\n",
    "                        );\n",
    "\n",
    "\"\"\"\n",
    "\n",
    "cursor.execute(create_table_sql)\n",
    "print(\"'CUSTOMER' AND 'ORDERS  AND transations' table created.\")\n"
   ]
  },
  {
   "cell_type": "code",
   "execution_count": 33,
   "id": "624d4834",
   "metadata": {},
   "outputs": [
    {
     "name": "stdout",
     "output_type": "stream",
     "text": [
      "\n",
      "  Checking 'Customers' Table:\n",
      "  Columns: ['customer_id', 'name', 'email', 'phone', 'address', 'registration_date', 'loyalty_status']\n",
      "\n",
      " Checking 'Orders' Table:\n",
      "Columns: ['order_id', 'customer_id', 'order_date', 'order_amount', 'order_status', 'product_category']\n"
     ]
    }
   ],
   "source": [
    "# --- Check Customers Table ---\n",
    "print(\"\\n  Checking 'Customers' Table:\")\n",
    "cursor.execute(\"SELECT * FROM Customers\")\n",
    "customers = cursor.fetchall()\n",
    "customer_columns = [col[0] for col in cursor.description]\n",
    "print(\"  Columns:\", customer_columns)\n",
    "for row in customers[:5]:\n",
    "    print(row)\n",
    "\n",
    "# --- Check Orders Table ---\n",
    "print(\"\\n Checking 'Orders' Table:\")\n",
    "cursor.execute(\"SELECT * FROM Orders\")\n",
    "orders = cursor.fetchall()\n",
    "order_columns = [col[0] for col in cursor.description]\n",
    "print(\"Columns:\", order_columns)\n",
    "for row in orders[:5]:\n",
    "    print(row)\n"
   ]
  },
  {
   "cell_type": "code",
   "execution_count": 38,
   "id": "39e4fe0d",
   "metadata": {},
   "outputs": [
    {
     "data": {
      "text/html": [
       "<div>\n",
       "<style scoped>\n",
       "    .dataframe tbody tr th:only-of-type {\n",
       "        vertical-align: middle;\n",
       "    }\n",
       "\n",
       "    .dataframe tbody tr th {\n",
       "        vertical-align: top;\n",
       "    }\n",
       "\n",
       "    .dataframe thead th {\n",
       "        text-align: right;\n",
       "    }\n",
       "</style>\n",
       "<table border=\"1\" class=\"dataframe\">\n",
       "  <thead>\n",
       "    <tr style=\"text-align: right;\">\n",
       "      <th></th>\n",
       "      <th>customer_id</th>\n",
       "      <th>name</th>\n",
       "      <th>email</th>\n",
       "      <th>phone</th>\n",
       "      <th>address</th>\n",
       "      <th>registration_date</th>\n",
       "      <th>loyalty_status</th>\n",
       "    </tr>\n",
       "  </thead>\n",
       "  <tbody>\n",
       "    <tr>\n",
       "      <th>0</th>\n",
       "      <td>1</td>\n",
       "      <td>Michelle Kidd</td>\n",
       "      <td>vayala@example.net</td>\n",
       "      <td>(619) 723-4258</td>\n",
       "      <td>USNS Santiago, FPO AE 80872</td>\n",
       "      <td>25-01-2025</td>\n",
       "      <td>Gold</td>\n",
       "    </tr>\n",
       "    <tr>\n",
       "      <th>1</th>\n",
       "      <td>2</td>\n",
       "      <td>Brad Newton</td>\n",
       "      <td>taylorcatherine@example.net</td>\n",
       "      <td>(537) 674-1158</td>\n",
       "      <td>38783 Oliver Street, West Kristenborough, MT 9...</td>\n",
       "      <td>13-07-2023</td>\n",
       "      <td>Silver</td>\n",
       "    </tr>\n",
       "    <tr>\n",
       "      <th>2</th>\n",
       "      <td>3</td>\n",
       "      <td>Larry Torres</td>\n",
       "      <td>dsanchez@example.net</td>\n",
       "      <td>(810) 256-4505</td>\n",
       "      <td>6845 Steele Turnpike, West Erikabury, UT 37487</td>\n",
       "      <td>18-08-2023</td>\n",
       "      <td>Bronze</td>\n",
       "    </tr>\n",
       "    <tr>\n",
       "      <th>3</th>\n",
       "      <td>4</td>\n",
       "      <td>Kimberly Price</td>\n",
       "      <td>jessicaknight@example.com</td>\n",
       "      <td>(423) 222-9779</td>\n",
       "      <td>1631 Alexis Meadows, Lake Amanda, CA 75179</td>\n",
       "      <td>08-12-2024</td>\n",
       "      <td>Gold</td>\n",
       "    </tr>\n",
       "    <tr>\n",
       "      <th>4</th>\n",
       "      <td>5</td>\n",
       "      <td>Matthew Phillips</td>\n",
       "      <td>qwilliams@example.com</td>\n",
       "      <td>(220) 763-3522</td>\n",
       "      <td>2274 Williams Heights Suite 895, Andersonhaven...</td>\n",
       "      <td>03-02-2024</td>\n",
       "      <td>Gold</td>\n",
       "    </tr>\n",
       "  </tbody>\n",
       "</table>\n",
       "</div>"
      ],
      "text/plain": [
       "   customer_id              name                        email           phone  \\\n",
       "0            1     Michelle Kidd           vayala@example.net  (619) 723-4258   \n",
       "1            2       Brad Newton  taylorcatherine@example.net  (537) 674-1158   \n",
       "2            3      Larry Torres         dsanchez@example.net  (810) 256-4505   \n",
       "3            4    Kimberly Price    jessicaknight@example.com  (423) 222-9779   \n",
       "4            5  Matthew Phillips        qwilliams@example.com  (220) 763-3522   \n",
       "\n",
       "                                             address registration_date  \\\n",
       "0                        USNS Santiago, FPO AE 80872        25-01-2025   \n",
       "1  38783 Oliver Street, West Kristenborough, MT 9...        13-07-2023   \n",
       "2     6845 Steele Turnpike, West Erikabury, UT 37487        18-08-2023   \n",
       "3         1631 Alexis Meadows, Lake Amanda, CA 75179        08-12-2024   \n",
       "4  2274 Williams Heights Suite 895, Andersonhaven...        03-02-2024   \n",
       "\n",
       "  loyalty_status  \n",
       "0           Gold  \n",
       "1         Silver  \n",
       "2         Bronze  \n",
       "3           Gold  \n",
       "4           Gold  "
      ]
     },
     "execution_count": 38,
     "metadata": {},
     "output_type": "execute_result"
    }
   ],
   "source": [
    "cust=r\"c:\\Users\\Manisha\\Downloads\\replaced_customer.csv\"\n",
    "\n",
    "customer=pd.read_csv(cust)\n",
    "\n",
    "customer.head(5)\n"
   ]
  },
  {
   "cell_type": "code",
   "execution_count": 39,
   "id": "0987b23a",
   "metadata": {},
   "outputs": [
    {
     "data": {
      "text/html": [
       "<div>\n",
       "<style scoped>\n",
       "    .dataframe tbody tr th:only-of-type {\n",
       "        vertical-align: middle;\n",
       "    }\n",
       "\n",
       "    .dataframe tbody tr th {\n",
       "        vertical-align: top;\n",
       "    }\n",
       "\n",
       "    .dataframe thead th {\n",
       "        text-align: right;\n",
       "    }\n",
       "</style>\n",
       "<table border=\"1\" class=\"dataframe\">\n",
       "  <thead>\n",
       "    <tr style=\"text-align: right;\">\n",
       "      <th></th>\n",
       "      <th>order_id</th>\n",
       "      <th>customer_id</th>\n",
       "      <th>order_date</th>\n",
       "      <th>order_amount</th>\n",
       "      <th>order_status</th>\n",
       "      <th>product_category</th>\n",
       "    </tr>\n",
       "  </thead>\n",
       "  <tbody>\n",
       "    <tr>\n",
       "      <th>0</th>\n",
       "      <td>892a07a4-d252-4775-85e0-73077143e1c6</td>\n",
       "      <td>966</td>\n",
       "      <td>2024-11-27</td>\n",
       "      <td>317.64</td>\n",
       "      <td>Cancelled</td>\n",
       "      <td>Home &amp; Garden</td>\n",
       "    </tr>\n",
       "    <tr>\n",
       "      <th>1</th>\n",
       "      <td>ae160758-e187-47b2-9350-032f88f55491</td>\n",
       "      <td>345</td>\n",
       "      <td>2023-03-27</td>\n",
       "      <td>645.87</td>\n",
       "      <td>Completed</td>\n",
       "      <td>Home &amp; Garden</td>\n",
       "    </tr>\n",
       "    <tr>\n",
       "      <th>2</th>\n",
       "      <td>7c50456e-6123-45cc-aa19-128bef3754d6</td>\n",
       "      <td>503</td>\n",
       "      <td>2024-03-31</td>\n",
       "      <td>880.86</td>\n",
       "      <td>Pending</td>\n",
       "      <td>Clothing</td>\n",
       "    </tr>\n",
       "    <tr>\n",
       "      <th>3</th>\n",
       "      <td>c788b56b-3716-4cd9-a827-d4dc401ba00c</td>\n",
       "      <td>385</td>\n",
       "      <td>2023-08-09</td>\n",
       "      <td>876.83</td>\n",
       "      <td>Cancelled</td>\n",
       "      <td>Home &amp; Garden</td>\n",
       "    </tr>\n",
       "    <tr>\n",
       "      <th>4</th>\n",
       "      <td>925ab5b1-adb1-4302-a70b-1c2db724e02b</td>\n",
       "      <td>817</td>\n",
       "      <td>2023-04-19</td>\n",
       "      <td>264.53</td>\n",
       "      <td>Pending</td>\n",
       "      <td>Home &amp; Garden</td>\n",
       "    </tr>\n",
       "    <tr>\n",
       "      <th>...</th>\n",
       "      <td>...</td>\n",
       "      <td>...</td>\n",
       "      <td>...</td>\n",
       "      <td>...</td>\n",
       "      <td>...</td>\n",
       "      <td>...</td>\n",
       "    </tr>\n",
       "    <tr>\n",
       "      <th>1995</th>\n",
       "      <td>cb6f0f6b-3d4b-402c-ba9e-a8e666422d97</td>\n",
       "      <td>799</td>\n",
       "      <td>2023-11-20</td>\n",
       "      <td>634.62</td>\n",
       "      <td>Cancelled</td>\n",
       "      <td>Clothing</td>\n",
       "    </tr>\n",
       "    <tr>\n",
       "      <th>1996</th>\n",
       "      <td>900fdea4-fd87-486d-bc20-26d045767ed8</td>\n",
       "      <td>692</td>\n",
       "      <td>2023-07-20</td>\n",
       "      <td>945.97</td>\n",
       "      <td>Cancelled</td>\n",
       "      <td>Electronics</td>\n",
       "    </tr>\n",
       "    <tr>\n",
       "      <th>1997</th>\n",
       "      <td>4550ccfe-18c1-45d5-8c31-0edf1e3d9fa3</td>\n",
       "      <td>695</td>\n",
       "      <td>2024-01-06</td>\n",
       "      <td>229.99</td>\n",
       "      <td>Cancelled</td>\n",
       "      <td>Home &amp; Garden</td>\n",
       "    </tr>\n",
       "    <tr>\n",
       "      <th>1998</th>\n",
       "      <td>dd19b028-dfa2-4eda-a66f-44f5401ef27e</td>\n",
       "      <td>502</td>\n",
       "      <td>2023-02-05</td>\n",
       "      <td>596.65</td>\n",
       "      <td>Completed</td>\n",
       "      <td>Electronics</td>\n",
       "    </tr>\n",
       "    <tr>\n",
       "      <th>1999</th>\n",
       "      <td>5e32ff66-d3dd-48ad-8e47-cd71bb2e97ea</td>\n",
       "      <td>348</td>\n",
       "      <td>2024-11-02</td>\n",
       "      <td>238.69</td>\n",
       "      <td>Completed</td>\n",
       "      <td>Books</td>\n",
       "    </tr>\n",
       "  </tbody>\n",
       "</table>\n",
       "<p>2000 rows × 6 columns</p>\n",
       "</div>"
      ],
      "text/plain": [
       "                                  order_id  customer_id  order_date  \\\n",
       "0     892a07a4-d252-4775-85e0-73077143e1c6          966  2024-11-27   \n",
       "1     ae160758-e187-47b2-9350-032f88f55491          345  2023-03-27   \n",
       "2     7c50456e-6123-45cc-aa19-128bef3754d6          503  2024-03-31   \n",
       "3     c788b56b-3716-4cd9-a827-d4dc401ba00c          385  2023-08-09   \n",
       "4     925ab5b1-adb1-4302-a70b-1c2db724e02b          817  2023-04-19   \n",
       "...                                    ...          ...         ...   \n",
       "1995  cb6f0f6b-3d4b-402c-ba9e-a8e666422d97          799  2023-11-20   \n",
       "1996  900fdea4-fd87-486d-bc20-26d045767ed8          692  2023-07-20   \n",
       "1997  4550ccfe-18c1-45d5-8c31-0edf1e3d9fa3          695  2024-01-06   \n",
       "1998  dd19b028-dfa2-4eda-a66f-44f5401ef27e          502  2023-02-05   \n",
       "1999  5e32ff66-d3dd-48ad-8e47-cd71bb2e97ea          348  2024-11-02   \n",
       "\n",
       "      order_amount order_status product_category  \n",
       "0           317.64    Cancelled    Home & Garden  \n",
       "1           645.87    Completed    Home & Garden  \n",
       "2           880.86      Pending         Clothing  \n",
       "3           876.83    Cancelled    Home & Garden  \n",
       "4           264.53      Pending    Home & Garden  \n",
       "...            ...          ...              ...  \n",
       "1995        634.62    Cancelled         Clothing  \n",
       "1996        945.97    Cancelled      Electronics  \n",
       "1997        229.99    Cancelled    Home & Garden  \n",
       "1998        596.65    Completed      Electronics  \n",
       "1999        238.69    Completed            Books  \n",
       "\n",
       "[2000 rows x 6 columns]"
      ]
     },
     "execution_count": 39,
     "metadata": {},
     "output_type": "execute_result"
    }
   ],
   "source": [
    "ord=r\"C:\\Users\\Manisha\\Downloads\\order_data 1.csv\"\n",
    "\n",
    "orders=pd.read_csv(ord)\n",
    "\n",
    "orders"
   ]
  },
  {
   "cell_type": "code",
   "execution_count": 41,
   "id": "f60906de",
   "metadata": {},
   "outputs": [
    {
     "data": {
      "text/plain": [
       "Index(['customer_id', 'name', 'email', 'phone', 'address', 'registration_date',\n",
       "       'loyalty_status'],\n",
       "      dtype='object')"
      ]
     },
     "execution_count": 41,
     "metadata": {},
     "output_type": "execute_result"
    }
   ],
   "source": [
    "customer.columns"
   ]
  },
  {
   "cell_type": "code",
   "execution_count": 42,
   "id": "b80ca986",
   "metadata": {},
   "outputs": [
    {
     "data": {
      "text/plain": [
       "Index(['order_id', 'customer_id', 'order_date', 'order_amount', 'order_status',\n",
       "       'product_category'],\n",
       "      dtype='object')"
      ]
     },
     "execution_count": 42,
     "metadata": {},
     "output_type": "execute_result"
    }
   ],
   "source": [
    "orders.columns"
   ]
  },
  {
   "cell_type": "code",
   "execution_count": 11,
   "id": "4b241360",
   "metadata": {},
   "outputs": [
    {
     "name": "stdout",
     "output_type": "stream",
     "text": [
      " Connected to SQL Server — Database: sqlpythondb\n"
     ]
    }
   ],
   "source": [
    "import pyodbc\n",
    "\n",
    "# Connection details\n",
    "DRIVER_NAME = \"ODBC Driver 17 for SQL Server\"\n",
    "SERVER_NAME = \"DESKTOP-FIQ4FDL\\\\SQLEXPRESS03\"  \n",
    "USERNAME = \"sa\"\n",
    "PASSWORD = \"manisha123\"  \n",
    "DATABASE_NAME = \"sqlpythondb\"  \n",
    "\n",
    "# Build connection string\n",
    "connection_string = (\n",
    "    f\"DRIVER={{{DRIVER_NAME}}};\"\n",
    "    f\"SERVER={SERVER_NAME};\"\n",
    "    f\"DATABASE={DATABASE_NAME};\"  \n",
    "    f\"UID={USERNAME};\"\n",
    "    f\"PWD={PASSWORD};\"\n",
    ")\n",
    "\n",
    "# Connect with autocommit\n",
    "try:\n",
    "    conn = pyodbc.connect(connection_string, autocommit=True)\n",
    "    cursor = conn.cursor()\n",
    "    print(f\" Connected to SQL Server — Database: {DATABASE_NAME}\")\n",
    "except Exception as e:\n",
    "    print(\" Connection failed:\", e)\n"
   ]
  },
  {
   "cell_type": "code",
   "execution_count": 43,
   "id": "51b6d9ba",
   "metadata": {},
   "outputs": [
    {
     "name": "stderr",
     "output_type": "stream",
     "text": [
      "C:\\Users\\Manisha\\AppData\\Local\\Temp\\ipykernel_23256\\3261394641.py:2: UserWarning: Parsing dates in %d-%m-%Y format when dayfirst=False (the default) was specified. Pass `dayfirst=True` or specify a format to silence this warning.\n",
      "  customer['registration_date'] = pd.to_datetime(customer['registration_date'], errors='coerce')\n"
     ]
    },
    {
     "name": "stdout",
     "output_type": "stream",
     "text": [
      " Customers inserted.\n"
     ]
    }
   ],
   "source": [
    "# Ensure registration_date is parsed properly\n",
    "customer['registration_date'] = pd.to_datetime(customer['registration_date'], errors='coerce')\n",
    "\n",
    "# Now insert data\n",
    "for index, row in customer.iterrows():\n",
    "    cursor.execute(\"\"\"\n",
    "        INSERT INTO Customers (customer_id, name, email, phone, address, registration_date, loyalty_status)\n",
    "        VALUES (?, ?, ?, ?, ?, ?, ?)\n",
    "    \"\"\", \n",
    "    int(row['customer_id']),\n",
    "    row['name'],\n",
    "    row['email'],\n",
    "    row['phone'],\n",
    "    row['address'],\n",
    "    row['registration_date'].strftime('%Y-%m-%d') if not pd.isna(row['registration_date']) else None,\n",
    "    row['loyalty_status'])\n",
    "\n",
    "conn.commit()\n",
    "print(\" Customers inserted.\")\n"
   ]
  },
  {
   "cell_type": "code",
   "execution_count": 45,
   "id": "ef1c3040",
   "metadata": {},
   "outputs": [
    {
     "name": "stdout",
     "output_type": "stream",
     "text": [
      "<class 'pandas.core.frame.DataFrame'>\n"
     ]
    }
   ],
   "source": [
    "print(type(orders))"
   ]
  },
  {
   "cell_type": "code",
   "execution_count": 54,
   "id": "170410b2",
   "metadata": {},
   "outputs": [
    {
     "data": {
      "text/plain": [
       "<pyodbc.Cursor at 0x2d437f2da30>"
      ]
     },
     "execution_count": 54,
     "metadata": {},
     "output_type": "execute_result"
    }
   ],
   "source": [
    "truncate= \"\"\"\n",
    "truncate table orders; \"\"\"\n",
    "\n",
    "cursor.execute(truncate)\n"
   ]
  },
  {
   "cell_type": "code",
   "execution_count": null,
   "id": "46639e6d",
   "metadata": {},
   "outputs": [],
   "source": [
    "orders['order_date'] = pd.to_datetime(orders['order_date'], errors='coerce')"
   ]
  },
  {
   "cell_type": "code",
   "execution_count": 55,
   "id": "74927d64",
   "metadata": {},
   "outputs": [
    {
     "name": "stdout",
     "output_type": "stream",
     "text": [
      "Orders inserted successfully into the database.\n"
     ]
    }
   ],
   "source": [
    "for index, row in orders.iterrows():\n",
    "    cursor.execute(\"\"\"\n",
    "        INSERT INTO orders (order_id, customer_id, order_date, order_amount, order_status, product_category)\n",
    "        VALUES (?, ?, ?, ?, ?, ?)\n",
    "    \"\"\", \n",
    "    row['order_id'],\n",
    "    row['customer_id'],\n",
    "    row['order_date'].strftime('%Y-%m-%d') if pd.notnull(row['order_date']) else None,\n",
    "    row['order_amount'],\n",
    "    row['order_status'],\n",
    "    row['product_category']\n",
    "    )\n",
    "\n",
    "conn.commit()\n",
    "print(\"Orders inserted successfully into the database.\")\n"
   ]
  },
  {
   "cell_type": "code",
   "execution_count": 57,
   "id": "ffff907e",
   "metadata": {},
   "outputs": [
    {
     "data": {
      "text/html": [
       "<div>\n",
       "<style scoped>\n",
       "    .dataframe tbody tr th:only-of-type {\n",
       "        vertical-align: middle;\n",
       "    }\n",
       "\n",
       "    .dataframe tbody tr th {\n",
       "        vertical-align: top;\n",
       "    }\n",
       "\n",
       "    .dataframe thead th {\n",
       "        text-align: right;\n",
       "    }\n",
       "</style>\n",
       "<table border=\"1\" class=\"dataframe\">\n",
       "  <thead>\n",
       "    <tr style=\"text-align: right;\">\n",
       "      <th></th>\n",
       "      <th>transaction_id</th>\n",
       "      <th>customer_id</th>\n",
       "      <th>amount</th>\n",
       "      <th>transaction_date</th>\n",
       "      <th>product_category</th>\n",
       "      <th>payment_method</th>\n",
       "      <th>store_location</th>\n",
       "    </tr>\n",
       "  </thead>\n",
       "  <tbody>\n",
       "    <tr>\n",
       "      <th>0</th>\n",
       "      <td>1</td>\n",
       "      <td>565</td>\n",
       "      <td>2992.47</td>\n",
       "      <td>2025-03-10 01:20:54</td>\n",
       "      <td>Sports</td>\n",
       "      <td>Debit Card</td>\n",
       "      <td>New York</td>\n",
       "    </tr>\n",
       "    <tr>\n",
       "      <th>1</th>\n",
       "      <td>2</td>\n",
       "      <td>323</td>\n",
       "      <td>2041.87</td>\n",
       "      <td>2025-01-02 15:24:19</td>\n",
       "      <td>Clothing</td>\n",
       "      <td>Cash</td>\n",
       "      <td>New York</td>\n",
       "    </tr>\n",
       "    <tr>\n",
       "      <th>2</th>\n",
       "      <td>3</td>\n",
       "      <td>398</td>\n",
       "      <td>107.35</td>\n",
       "      <td>2025-02-16 03:49:01</td>\n",
       "      <td>Beauty</td>\n",
       "      <td>Debit Card</td>\n",
       "      <td>Online</td>\n",
       "    </tr>\n",
       "    <tr>\n",
       "      <th>3</th>\n",
       "      <td>4</td>\n",
       "      <td>19</td>\n",
       "      <td>NaN</td>\n",
       "      <td>2025-04-30 15:26:23</td>\n",
       "      <td>Sports</td>\n",
       "      <td>Debit Card</td>\n",
       "      <td>Los Angeles</td>\n",
       "    </tr>\n",
       "    <tr>\n",
       "      <th>4</th>\n",
       "      <td>5</td>\n",
       "      <td>547</td>\n",
       "      <td>3063.28</td>\n",
       "      <td>2025-06-14 04:28:53</td>\n",
       "      <td>Clothing</td>\n",
       "      <td>PayPal</td>\n",
       "      <td>Los Angeles</td>\n",
       "    </tr>\n",
       "  </tbody>\n",
       "</table>\n",
       "</div>"
      ],
      "text/plain": [
       "   transaction_id  customer_id   amount     transaction_date product_category  \\\n",
       "0               1          565  2992.47  2025-03-10 01:20:54           Sports   \n",
       "1               2          323  2041.87  2025-01-02 15:24:19         Clothing   \n",
       "2               3          398   107.35  2025-02-16 03:49:01           Beauty   \n",
       "3               4           19      NaN  2025-04-30 15:26:23           Sports   \n",
       "4               5          547  3063.28  2025-06-14 04:28:53         Clothing   \n",
       "\n",
       "  payment_method store_location  \n",
       "0     Debit Card       New York  \n",
       "1           Cash       New York  \n",
       "2     Debit Card         Online  \n",
       "3     Debit Card    Los Angeles  \n",
       "4         PayPal    Los Angeles  "
      ]
     },
     "execution_count": 57,
     "metadata": {},
     "output_type": "execute_result"
    }
   ],
   "source": [
    "tran=r\"C:\\Users\\Manisha\\Downloads\\transaction_data.csv\"\n",
    "transaction=pd.read_csv(tran)\n",
    "transaction.head()\n"
   ]
  },
  {
   "cell_type": "code",
   "execution_count": 58,
   "id": "8c7f3f3d",
   "metadata": {},
   "outputs": [
    {
     "data": {
      "text/plain": [
       "Index(['transaction_id', 'customer_id', 'amount', 'transaction_date',\n",
       "       'product_category', 'payment_method', 'store_location'],\n",
       "      dtype='object')"
      ]
     },
     "execution_count": 58,
     "metadata": {},
     "output_type": "execute_result"
    }
   ],
   "source": [
    "transaction.columns"
   ]
  },
  {
   "cell_type": "code",
   "execution_count": 72,
   "id": "9f6ad849",
   "metadata": {},
   "outputs": [
    {
     "data": {
      "text/plain": [
       "transaction_id      False\n",
       "customer_id         False\n",
       "amount               True\n",
       "transaction_date    False\n",
       "product_category    False\n",
       "payment_method      False\n",
       "store_location      False\n",
       "dtype: bool"
      ]
     },
     "execution_count": 72,
     "metadata": {},
     "output_type": "execute_result"
    }
   ],
   "source": [
    "transaction.isnull().any()"
   ]
  },
  {
   "cell_type": "code",
   "execution_count": 73,
   "id": "e3a1b9b4",
   "metadata": {},
   "outputs": [
    {
     "data": {
      "text/plain": [
       "transaction_id       0\n",
       "customer_id          0\n",
       "amount              50\n",
       "transaction_date     0\n",
       "product_category     0\n",
       "payment_method       0\n",
       "store_location       0\n",
       "dtype: int64"
      ]
     },
     "execution_count": 73,
     "metadata": {},
     "output_type": "execute_result"
    }
   ],
   "source": [
    "transaction.isnull().sum()"
   ]
  },
  {
   "cell_type": "code",
   "execution_count": 74,
   "id": "e4cfa651",
   "metadata": {},
   "outputs": [],
   "source": [
    "transaction['amount']=transaction['amount'].fillna(0.00)"
   ]
  },
  {
   "cell_type": "code",
   "execution_count": 75,
   "id": "38889c9b",
   "metadata": {},
   "outputs": [
    {
     "data": {
      "text/plain": [
       "transaction_id      0\n",
       "customer_id         0\n",
       "amount              0\n",
       "transaction_date    0\n",
       "product_category    0\n",
       "payment_method      0\n",
       "store_location      0\n",
       "dtype: int64"
      ]
     },
     "execution_count": 75,
     "metadata": {},
     "output_type": "execute_result"
    }
   ],
   "source": [
    "transaction.isnull().sum()"
   ]
  },
  {
   "cell_type": "code",
   "execution_count": 80,
   "id": "7ec913f5",
   "metadata": {},
   "outputs": [],
   "source": [
    "transaction.to_csv('transaction_new.csv')"
   ]
  },
  {
   "cell_type": "code",
   "execution_count": 82,
   "id": "2429cecd",
   "metadata": {},
   "outputs": [
    {
     "data": {
      "text/html": [
       "<div>\n",
       "<style scoped>\n",
       "    .dataframe tbody tr th:only-of-type {\n",
       "        vertical-align: middle;\n",
       "    }\n",
       "\n",
       "    .dataframe tbody tr th {\n",
       "        vertical-align: top;\n",
       "    }\n",
       "\n",
       "    .dataframe thead th {\n",
       "        text-align: right;\n",
       "    }\n",
       "</style>\n",
       "<table border=\"1\" class=\"dataframe\">\n",
       "  <thead>\n",
       "    <tr style=\"text-align: right;\">\n",
       "      <th></th>\n",
       "      <th>Unnamed: 0</th>\n",
       "      <th>transaction_id</th>\n",
       "      <th>customer_id</th>\n",
       "      <th>amount</th>\n",
       "      <th>transaction_date</th>\n",
       "      <th>product_category</th>\n",
       "      <th>payment_method</th>\n",
       "      <th>store_location</th>\n",
       "    </tr>\n",
       "  </thead>\n",
       "  <tbody>\n",
       "    <tr>\n",
       "      <th>0</th>\n",
       "      <td>0</td>\n",
       "      <td>1</td>\n",
       "      <td>565</td>\n",
       "      <td>2992.47</td>\n",
       "      <td>2025-03-10</td>\n",
       "      <td>Sports</td>\n",
       "      <td>Debit Card</td>\n",
       "      <td>New York</td>\n",
       "    </tr>\n",
       "    <tr>\n",
       "      <th>1</th>\n",
       "      <td>1</td>\n",
       "      <td>2</td>\n",
       "      <td>323</td>\n",
       "      <td>2041.87</td>\n",
       "      <td>2025-01-02</td>\n",
       "      <td>Clothing</td>\n",
       "      <td>Cash</td>\n",
       "      <td>New York</td>\n",
       "    </tr>\n",
       "    <tr>\n",
       "      <th>2</th>\n",
       "      <td>2</td>\n",
       "      <td>3</td>\n",
       "      <td>398</td>\n",
       "      <td>107.35</td>\n",
       "      <td>2025-02-16</td>\n",
       "      <td>Beauty</td>\n",
       "      <td>Debit Card</td>\n",
       "      <td>Online</td>\n",
       "    </tr>\n",
       "    <tr>\n",
       "      <th>3</th>\n",
       "      <td>3</td>\n",
       "      <td>4</td>\n",
       "      <td>19</td>\n",
       "      <td>0.00</td>\n",
       "      <td>2025-04-30</td>\n",
       "      <td>Sports</td>\n",
       "      <td>Debit Card</td>\n",
       "      <td>Los Angeles</td>\n",
       "    </tr>\n",
       "    <tr>\n",
       "      <th>4</th>\n",
       "      <td>4</td>\n",
       "      <td>5</td>\n",
       "      <td>547</td>\n",
       "      <td>3063.28</td>\n",
       "      <td>2025-06-14</td>\n",
       "      <td>Clothing</td>\n",
       "      <td>PayPal</td>\n",
       "      <td>Los Angeles</td>\n",
       "    </tr>\n",
       "  </tbody>\n",
       "</table>\n",
       "</div>"
      ],
      "text/plain": [
       "   Unnamed: 0  transaction_id  customer_id   amount transaction_date  \\\n",
       "0           0               1          565  2992.47       2025-03-10   \n",
       "1           1               2          323  2041.87       2025-01-02   \n",
       "2           2               3          398   107.35       2025-02-16   \n",
       "3           3               4           19     0.00       2025-04-30   \n",
       "4           4               5          547  3063.28       2025-06-14   \n",
       "\n",
       "  product_category payment_method store_location  \n",
       "0           Sports     Debit Card       New York  \n",
       "1         Clothing           Cash       New York  \n",
       "2           Beauty     Debit Card         Online  \n",
       "3           Sports     Debit Card    Los Angeles  \n",
       "4         Clothing         PayPal    Los Angeles  "
      ]
     },
     "execution_count": 82,
     "metadata": {},
     "output_type": "execute_result"
    }
   ],
   "source": [
    "tran1=r\"C:\\Users\\Manisha\\Downloads\\transaction_new.csv\"\n",
    "transaction1=pd.read_csv(tran1)\n",
    "transaction1.head()"
   ]
  },
  {
   "cell_type": "code",
   "execution_count": 65,
   "id": "95f11fe4",
   "metadata": {},
   "outputs": [],
   "source": [
    "transaction['transaction_date'] = pd.to_datetime(transaction['transaction_date']).dt.date\n"
   ]
  },
  {
   "cell_type": "code",
   "execution_count": 83,
   "id": "e67dd42d",
   "metadata": {},
   "outputs": [
    {
     "name": "stdout",
     "output_type": "stream",
     "text": [
      "TRANSACTIONS inserted (new records only).\n"
     ]
    }
   ],
   "source": [
    "for index, row in transaction1.iterrows():\n",
    "    cursor.execute(\"SELECT COUNT(*) FROM transactions WHERE transaction_id = ?\", (row['transaction_id'],))\n",
    "    if cursor.fetchone()[0] == 0:\n",
    "        cursor.execute(\"\"\"\n",
    "            INSERT INTO transactions (\n",
    "                transaction_id, customer_id, amount, transaction_date,\n",
    "                product_category, payment_method, store_location\n",
    "            ) VALUES (?, ?, ?, ?, ?, ?, ?)\n",
    "        \"\"\", (\n",
    "            int(row['transaction_id']),\n",
    "            int(row['customer_id']),\n",
    "            float(row['amount']),\n",
    "            row['transaction_date'],\n",
    "            row['product_category'],\n",
    "            row['payment_method'],\n",
    "            row['store_location']\n",
    "        ))\n",
    "\n",
    "conn.commit()\n",
    "print(\"TRANSACTIONS inserted (new records only).\")\n"
   ]
  },
  {
   "cell_type": "code",
   "execution_count": 87,
   "id": "1ec4a825",
   "metadata": {},
   "outputs": [
    {
     "name": "stdout",
     "output_type": "stream",
     "text": [
      "\n",
      "  Checking 'Customers' Table:\n",
      "  Columns: ['customer_id', 'name', 'email', 'phone', 'address', 'registration_date', 'loyalty_status']\n",
      "(1, 'Michelle Kidd', 'vayala@example.net', '(619) 723-4258', 'USNS Santiago, FPO AE 80872', datetime.date(2025, 1, 25), 'Gold')\n",
      "(2, 'Brad Newton', 'taylorcatherine@example.net', '(537) 674-1158', '38783 Oliver Street, West Kristenborough, MT 99752', datetime.date(2023, 7, 13), 'Silver')\n",
      "(3, 'Larry Torres', 'dsanchez@example.net', '(810) 256-4505', '6845 Steele Turnpike, West Erikabury, UT 37487', datetime.date(2023, 8, 18), 'Bronze')\n",
      "(4, 'Kimberly Price', 'jessicaknight@example.com', '(423) 222-9779', '1631 Alexis Meadows, Lake Amanda, CA 75179', datetime.date(2024, 12, 8), 'Gold')\n",
      "(5, 'Matthew Phillips', 'qwilliams@example.com', '(220) 763-3522', '2274 Williams Heights Suite 895, Andersonhaven, OR 80565', datetime.date(2024, 2, 3), 'Gold')\n",
      "\n",
      " Checking 'Orders' Table:\n",
      "Columns: ['order_id', 'customer_id', 'order_date', 'order_amount', 'order_status', 'product_category']\n",
      "('00104da6-42bf-4f44-81d4-c4435385b8c6', 27, datetime.date(2023, 5, 9), 801.02, 'Pending', 'Toys')\n",
      "('00107b61-829c-489e-9170-378068dd46b6', 709, datetime.date(2023, 5, 22), 293.81, 'Pending', 'Home & Garden')\n",
      "('00240607-c104-4303-aa19-a49b88e234b1', 178, datetime.date(2024, 6, 2), 431.1, 'Cancelled', 'Electronics')\n",
      "('003ee1e2-5f82-492b-9400-651073ced890', 381, datetime.date(2024, 1, 21), 193.48, 'Pending', 'Electronics')\n",
      "('008dc60e-b788-44e3-b6b2-097161e15072', 807, datetime.date(2023, 4, 1), 539.69, 'Completed', 'Toys')\n",
      "\n",
      " Checking 'transactions' Table:\n",
      "Columns: ['transaction_id', 'customer_id', 'amount', 'transaction_date', 'product_category', 'payment_method', 'store_location']\n",
      "(1, 565, 2992.47, datetime.date(2025, 3, 10), 'Sports', 'Debit Card', 'New York')\n",
      "(2, 323, 2041.87, datetime.date(2025, 1, 2), 'Clothing', 'Cash', 'New York')\n",
      "(3, 398, 107.35, datetime.date(2025, 2, 16), 'Beauty', 'Debit Card', 'Online')\n",
      "(4, 19, 0.0, datetime.date(2025, 4, 30), 'Sports', 'Debit Card', 'Los Angeles')\n",
      "(5, 547, 3063.28, datetime.date(2025, 6, 14), 'Clothing', 'PayPal', 'Los Angeles')\n"
     ]
    }
   ],
   "source": [
    "\n",
    "print(\"\\n  Checking 'Customers' Table:\")\n",
    "cursor.execute(\"SELECT * FROM Customers\")\n",
    "customers = cursor.fetchall()\n",
    "customer_columns = [col[0] for col in cursor.description]\n",
    "print(\"  Columns:\", customer_columns)\n",
    "for row in customers[:5]:\n",
    "    print(row)\n",
    "\n",
    "\n",
    "print(\"\\n Checking 'Orders' Table:\")\n",
    "cursor.execute(\"SELECT * FROM Orders\")\n",
    "orders = cursor.fetchall()\n",
    "order_columns = [col[0] for col in cursor.description]\n",
    "print(\"Columns:\", order_columns)\n",
    "for row in orders[:5]:\n",
    "    print(row)\n",
    "\n",
    "print(\"\\n Checking 'transactions' Table:\")\n",
    "cursor.execute(\"SELECT * FROM transactions\")\n",
    "orders = cursor.fetchall()\n",
    "order_columns = [col[0] for col in cursor.description]\n",
    "print(\"Columns:\", order_columns)\n",
    "for row in orders[:5]:\n",
    "    print(row)   \n"
   ]
  },
  {
   "cell_type": "markdown",
   "id": "07f2d5c7",
   "metadata": {},
   "source": [
    "COMPLETED WITH SSMS CONNECTIONS,CREATING A NEW DATABASE AND INSERTING A TABLE AND ROWS\n"
   ]
  },
  {
   "cell_type": "code",
   "execution_count": null,
   "id": "05f19a77",
   "metadata": {},
   "outputs": [],
   "source": []
  }
 ],
 "metadata": {
  "kernelspec": {
   "display_name": "Python 3",
   "language": "python",
   "name": "python3"
  },
  "language_info": {
   "codemirror_mode": {
    "name": "ipython",
    "version": 3
   },
   "file_extension": ".py",
   "mimetype": "text/x-python",
   "name": "python",
   "nbconvert_exporter": "python",
   "pygments_lexer": "ipython3",
   "version": "3.11.9"
  }
 },
 "nbformat": 4,
 "nbformat_minor": 5
}
